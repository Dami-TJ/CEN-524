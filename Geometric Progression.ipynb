{
 "cells": [
  {
   "cell_type": "code",
   "execution_count": null,
   "id": "e82c2995-bf81-45b9-9434-93b02d0a2349",
   "metadata": {},
   "outputs": [
    {
     "name": "stdout",
     "output_type": "stream",
     "text": [
      "Value of r:  2\n",
      "Value of a:  3\n",
      "Is n infinite? (y/n):  n\n",
      "Value of n:  10\n"
     ]
    },
    {
     "name": "stdout",
     "output_type": "stream",
     "text": [
      "Sum of GP: 3069.0\n"
     ]
    }
   ],
   "source": [
    "# Take user inputs\n",
    "r = float(input(\"Value of r: \"))  \n",
    "a = float(input(\"Value of a: \"))  \n",
    "inf = input(\"Is n infinite? (y/n): \").strip().lower()  \n",
    "\n",
    "if inf == \"n\":\n",
    "    n = int(input(\"Value of n: \"))  \n",
    "else:\n",
    "    n = None  \n",
    "\n",
    "# Function to compute the sum of a geometric series\n",
    "def gp(a, r, n, inf):\n",
    "    if inf == \"y\":  # Handling infinite geometric series\n",
    "        if abs(r) < 1:\n",
    "            return a / (1 - r) \n",
    "        else:\n",
    "            return \"Infinite series does not converge!\"\n",
    "\n",
    "    elif abs(r) < 1:  \n",
    "        return a * (1 - r**n) / (1 - r)  # Sum formula for finite GP\n",
    "\n",
    "    elif abs(r) > 1:\n",
    "        return a * ((r**n) - 1) / (r - 1)  # Alternative sum formula\n",
    "\n",
    "    elif r == 1:  \n",
    "        return a * n  # Special case when r = 1\n",
    "\n",
    "# Call function\n",
    "result = gp(a, r, n, inf)\n",
    "print(\"Sum of GP:\", result)\n"
   ]
  },
  {
   "cell_type": "code",
   "execution_count": null,
   "id": "e9e9db5b-1c3d-4638-ba93-d0d2a43d3379",
   "metadata": {},
   "outputs": [],
   "source": []
  }
 ],
 "metadata": {
  "kernelspec": {
   "display_name": "Python 3 (ipykernel)",
   "language": "python",
   "name": "python3"
  },
  "language_info": {
   "codemirror_mode": {
    "name": "ipython",
    "version": 3
   },
   "file_extension": ".py",
   "mimetype": "text/x-python",
   "name": "python",
   "nbconvert_exporter": "python",
   "pygments_lexer": "ipython3",
   "version": "3.9.18"
  }
 },
 "nbformat": 4,
 "nbformat_minor": 5
}
